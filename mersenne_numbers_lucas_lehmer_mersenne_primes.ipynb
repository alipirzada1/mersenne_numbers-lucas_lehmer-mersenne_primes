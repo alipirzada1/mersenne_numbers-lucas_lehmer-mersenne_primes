{
 "cells": [
  {
   "cell_type": "markdown",
   "metadata": {},
   "source": [
    "# MERSENNE_NUMBERS"
   ]
  },
  {
   "cell_type": "code",
   "execution_count": 52,
   "metadata": {},
   "outputs": [],
   "source": [
    "def is_prime(number):\n",
    "    if (number <= 1):\n",
    "        return False\n",
    "    \n",
    "    for factor in range(2, number):\n",
    "        if number % factor == 0:\n",
    "            return False\n",
    "        \n",
    "    return True\n",
    "\n",
    "def get_primes(n_start, n_end):\n",
    "    list1 = []\n",
    "    for number in range(n_start, n_end):\n",
    "        if is_prime(number):\n",
    "            list1.append(number)\n",
    "    return list1"
   ]
  },
  {
   "cell_type": "code",
   "execution_count": 53,
   "metadata": {},
   "outputs": [],
   "source": [
    "\n",
    "def mersenne_number(exp):\n",
    "    number = (2**exp)-1\n",
    "    return number\n"
   ]
  },
  {
   "cell_type": "markdown",
   "metadata": {},
   "source": [
    "# LUCAS_LEHMER"
   ]
  },
  {
   "cell_type": "code",
   "execution_count": 54,
   "metadata": {},
   "outputs": [],
   "source": [
    "# give any number to lucas_lehmer ftn, returns a list of of lucas_lehmer sequence upto i = p-2\n",
    "\n",
    "def lucas_lehmer(p):\n",
    "    list1 = [4]\n",
    "    M = (2**p) - 1\n",
    "    for i in range(1, p-1):\n",
    "        list1.append(  ((list1[i-1]**2)-2) % M  )\n",
    "    return list1        \n"
   ]
  },
  {
   "cell_type": "code",
   "execution_count": 55,
   "metadata": {},
   "outputs": [],
   "source": [
    "def any_prime(any_prime_number):\n",
    "    x = lucas_lehmer(any_prime_number)\n",
    "    return x\n",
    "\n",
    "list2 = any_prime(13)   # returns a list if a number is prime it's last value in list [:-1] is 0 example below"
   ]
  },
  {
   "cell_type": "code",
   "execution_count": 56,
   "metadata": {},
   "outputs": [
    {
     "name": "stdout",
     "output_type": "stream",
     "text": [
      "[4, 14, 194, 4870, 3953, 5970, 1857, 36, 1294, 3470, 128, 0]\n"
     ]
    }
   ],
   "source": [
    "print(list2)"
   ]
  },
  {
   "cell_type": "markdown",
   "metadata": {},
   "source": [
    "# MERSENNE_PRIMES"
   ]
  },
  {
   "cell_type": "code",
   "execution_count": 57,
   "metadata": {},
   "outputs": [],
   "source": [
    "def ll_prime(p):\n",
    "    list1 =  lucas_lehmer(p)\n",
    "    if (list1[-1] == 0):\n",
    "        return 1\n",
    "    elif (list1[-1] != 0):\n",
    "        return 0"
   ]
  },
  {
   "cell_type": "code",
   "execution_count": 58,
   "metadata": {},
   "outputs": [],
   "source": [
    "def check_mersenne_primes(a, b):\n",
    "    list1 = get_primes(a, b)     # Gets a list of Prime numbers b/w given numbers a, b i.e. 3, 65\n",
    "    \n",
    "    list2 = []                   # Gets a Mersenne number for each prime number given in list 1 i.e. b/w 3 and 65 \n",
    "    for x in list1:\n",
    "        list2.append(mersenne_number(x))\n",
    "        \n",
    "    list3 = []          # ll_prime calls the lucas_lehmer ftn which tests each prime number exponent given in list1 \n",
    "    for i in list1:     # i.e. (exponents of mersenne_numbers) whether the corresponding mersenne_number in list is prime or not\n",
    "           list3.append(ll_prime(i))\n",
    "    print(f'Prime exponents are prime or not i.e. 1 or 0 {list3}')\n",
    "   \n",
    "    x = list(zip(list1, list3))   # zip prime numbers and 1 or 0 to know whether it is prime or not,1 is prime 0 is not prime\n",
    "    y = list(zip(list2, list3))   # zip mersenne numbers and 1 or 0 to know whether it is prime or not, 1 is prime 0 is not prime\n",
    "    return x, y"
   ]
  },
  {
   "cell_type": "code",
   "execution_count": 59,
   "metadata": {},
   "outputs": [
    {
     "name": "stdout",
     "output_type": "stream",
     "text": [
      "Prime exponents are prime or not i.e. 1 or 0 [1, 1, 1, 0, 1, 1, 1, 0, 0, 1, 0, 0, 0, 0, 0, 0, 1]\n"
     ]
    }
   ],
   "source": [
    "x, y = check_mersenne_primes(3, 65)"
   ]
  },
  {
   "cell_type": "code",
   "execution_count": 60,
   "metadata": {
    "scrolled": true
   },
   "outputs": [
    {
     "name": "stdout",
     "output_type": "stream",
     "text": [
      "[(3, 1), (5, 1), (7, 1), (11, 0), (13, 1), (17, 1), (19, 1), (23, 0), (29, 0), (31, 1), (37, 0), (41, 0), (43, 0), (47, 0), (53, 0), (59, 0), (61, 1)]\n"
     ]
    }
   ],
   "source": [
    "print(x)    # a list of tuples, (prime_number, 1 or 0) 1 is prime 0 is not prime"
   ]
  },
  {
   "cell_type": "code",
   "execution_count": 61,
   "metadata": {},
   "outputs": [
    {
     "name": "stdout",
     "output_type": "stream",
     "text": [
      "[(7, 1), (31, 1), (127, 1), (2047, 0), (8191, 1), (131071, 1), (524287, 1), (8388607, 0), (536870911, 0), (2147483647, 1), (137438953471, 0), (2199023255551, 0), (8796093022207, 0), (140737488355327, 0), (9007199254740991, 0), (576460752303423487, 0), (2305843009213693951, 1)]\n"
     ]
    }
   ],
   "source": [
    "print(y)   # a list of tuples, (mersenne_number, 1 or 0) 1 is prime 0 is not prime"
   ]
  }
 ],
 "metadata": {
  "kernelspec": {
   "display_name": "Python 3",
   "language": "python",
   "name": "python3"
  },
  "language_info": {
   "codemirror_mode": {
    "name": "ipython",
    "version": 3
   },
   "file_extension": ".py",
   "mimetype": "text/x-python",
   "name": "python",
   "nbconvert_exporter": "python",
   "pygments_lexer": "ipython3",
   "version": "3.6.2"
  }
 },
 "nbformat": 4,
 "nbformat_minor": 2
}
